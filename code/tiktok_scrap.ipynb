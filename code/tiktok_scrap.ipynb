{
 "cells": [
  {
   "cell_type": "code",
   "execution_count": 1,
   "metadata": {},
   "outputs": [
    {
     "name": "stderr",
     "output_type": "stream",
     "text": [
      "[15:46:14] \u001b[92mAuthenticating browser with cookies\u001b[0m\n",
      "[15:46:14] Create a chrome browser instance \n",
      "[15:46:18] \u001b[92mAuthenticating browser with cookies\u001b[0m\n",
      "[15:46:21] Posting \u001b[1m../outputs/final_outputs/gta0.mp4\u001b[0m\n",
      "               with description: \u001b[1mCette anecdote va vous choquer !!\u001b[0m\n",
      "[15:46:21] \u001b[92mNavigating to upload page\u001b[0m\n",
      "[15:46:24] \u001b[92mUploading video file\u001b[0m\n",
      "[15:46:33] \u001b[92mRemoving split window\u001b[0m\n",
      "[15:46:39] \u001b[91mSplit window not found or operation timed out\u001b[0m\n",
      "[15:46:39] \u001b[92mSetting interactivity settings\u001b[0m\n",
      "[15:46:39] \u001b[92mSetting description\u001b[0m\n",
      "[15:46:40] \u001b[92mClicking the post button\u001b[0m\n",
      "[15:46:51] \u001b[92mVideo posted successfully\u001b[0m\n"
     ]
    }
   ],
   "source": [
    "from tiktok_uploader.upload import upload_video, upload_videos\n",
    "from tiktok_uploader.auth import AuthBackend\n",
    "def publish_tiktok(path_to_video:str, description:str)->str:\n",
    "    upload_video(path_to_video, \n",
    "    description=description, \n",
    "    cookies='tiktok_cookies.txt')\n",
    "    \n",
    "\n",
    "publish_tiktok(\"../outputs/final_outputs/gta0.mp4\", \"Cette anecdote va vous choquer !!\")\n",
    "\n"
   ]
  },
  {
   "cell_type": "code",
   "execution_count": null,
   "metadata": {},
   "outputs": [],
   "source": [
    "\n",
    "from selenium import webdriver\n",
    "from selenium.webdriver.common.by import By\n",
    "from selenium.webdriver.common.action_chains import ActionChains\n",
    "import shutil\n",
    "import time\n",
    "from datetime import datetime\n",
    "\n",
    "def GetVoice(text:str)->str:\n",
    "    \n",
    "    driver=webdriver.Chrome()\n",
    "\n",
    "    ###### login ######\n",
    "    driver.get(\"https://freetools.textmagic.com/text-to-speech\")\n",
    "    driver.maximize_window()\n",
    "\n",
    "    driver.find_element(By.XPATH, '/html/body/div[2]/div/section/div/div[2]/textarea').clear()\n",
    "    driver.find_element(By.XPATH, '/html/body/div[2]/div/section/div/div[2]/textarea').send_keys(text)\n",
    "    elem = driver.find_element(By.XPATH, '/html/body/div[2]/div/section/div/div[1]/div/div[1]/button')\n",
    "    elem.click()\n",
    "    driver.find_element(By.XPATH, '/html/body/div[2]/div/section/div/div[1]/div/div[1]/ul/li[152]/a').click()\n",
    "\n",
    "    elem = driver.find_element(By.XPATH, '/html/body/div[2]/div/section/div/div[3]/button[2]')\n",
    "    \n",
    "    ac = ActionChains(driver)\n",
    "    driver.execute_script(\"window.scrollBy(0, 400);\")\n",
    "    \n",
    "    ac.move_to_element(elem).move_by_offset(-150,50).click().perform()\n",
    "\n",
    "    #download\n",
    "    time.sleep(1)\n",
    "    driver.find_element(By.XPATH, '/html/body/div[2]/div/section/div/div[3]/button[2]').click()\n",
    "    time.sleep(20)\n",
    "\n",
    "    current_datetime = datetime.now()\n",
    "    # Format the date and time as per your requirement\n",
    "    formatted_datetime = current_datetime.strftime(\"%d-%b-%Y_%H-%M\")\n",
    "\n",
    "    rec_name = \"Text-to-Speech_\" + formatted_datetime + \".mp3\"\n",
    "    src_path = \"C:/Users/henri/Downloads/\"+rec_name\n",
    "    dst_path = \"../outputs/audio_outputs/\"+rec_name\n",
    "    shutil.move(src_path, dst_path)\n"
   ]
  }
 ],
 "metadata": {
  "kernelspec": {
   "display_name": "venv",
   "language": "python",
   "name": "python3"
  },
  "language_info": {
   "codemirror_mode": {
    "name": "ipython",
    "version": 3
   },
   "file_extension": ".py",
   "mimetype": "text/x-python",
   "name": "python",
   "nbconvert_exporter": "python",
   "pygments_lexer": "ipython3",
   "version": "3.9.13"
  }
 },
 "nbformat": 4,
 "nbformat_minor": 2
}
