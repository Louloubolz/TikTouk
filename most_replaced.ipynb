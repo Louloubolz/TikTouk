{
 "cells": [
  {
   "cell_type": "code",
   "execution_count": 3,
   "metadata": {},
   "outputs": [
    {
     "name": "stderr",
     "output_type": "stream",
     "text": [
      "C:\\Users\\henri\\AppData\\Local\\Temp\\ipykernel_15204\\3001212684.py:3: DeprecationWarning: \n",
      "Pyarrow will become a required dependency of pandas in the next major release of pandas (pandas 3.0),\n",
      "(to allow more performant data types, such as the Arrow string type, and better interoperability with other libraries)\n",
      "but was not found to be installed on your system.\n",
      "If this would cause problems for you,\n",
      "please provide us feedback at https://github.com/pandas-dev/pandas/issues/54466\n",
      "        \n",
      "  import pandas as pd\n"
     ]
    }
   ],
   "source": [
    "import requests\n",
    "from urllib.parse import urlparse, parse_qs\n",
    "import pandas as pd\n",
    "import math"
   ]
  },
  {
   "cell_type": "code",
   "execution_count": 8,
   "metadata": {},
   "outputs": [],
   "source": [
    "def get_most_viewed(yt_link):\n",
    "\n",
    "    # Parse the URL\n",
    "    parsed_url = urlparse(yt_link)\n",
    "\n",
    "    # Extract the video ID from the query parameters\n",
    "    video_id = parse_qs(parsed_url.query).get(\"v\", [])[0] if \"v\" in parse_qs(parsed_url.query) else None\n",
    "\n",
    "    if not video_id:\n",
    "        print(\"Unable to extract video ID from the URL.\")\n",
    "   \n",
    "    api_url = \"https://yt.lemnoslife.com/videos\"\n",
    "    params = {\n",
    "        \"part\": \"mostReplayed\",\n",
    "        \"id\": video_id\n",
    "    }\n",
    "\n",
    "    response = requests.get(api_url, params=params)\n",
    "\n",
    "    if response.status_code == 200:\n",
    "        # The request was successful\n",
    "        data = response.json()\n",
    "        print(data)\n",
    "        markers = data[\"items\"][0][\"mostReplayed\"][\"markers\"]\n",
    "        df = pd.DataFrame(markers)\n",
    "        df = df.iloc[1:-1]\n",
    "        #most_viewed = [element for element in markers if element[\"intensityScoreNormalized\"] > 0.8]\n",
    "        pas = df[\"startMillis\"][1]\n",
    "        rows_3min = math.ceil(180000/pas)\n",
    "        df['sum'] = df.apply(lambda row: df['intensityScoreNormalized'][row.name:row.name+rows_3min+1].sum(), axis=1)\n",
    "        max_score_index = df['sum'].idxmax()\n",
    "        best_start = df.loc[max_score_index, 'startMillis']\n",
    "        return best_start, round((pas*rows_3min)/1000)\n",
    "    else:\n",
    "        # The request failed\n",
    "        print(f\"Error: {response.status_code} - {response.text}\")\n"
   ]
  },
  {
   "cell_type": "code",
   "execution_count": 10,
   "metadata": {},
   "outputs": [
    {
     "name": "stdout",
     "output_type": "stream",
     "text": [
      "{'error': {'code': 403, 'message': 'YouTube has detected unusual traffic from this YouTube operational API instance. Please try your request again later or see alternatives at https://github.com/Benjamin-Loison/YouTube-operational-API/issues/11'}}\n"
     ]
    },
    {
     "ename": "KeyError",
     "evalue": "'items'",
     "output_type": "error",
     "traceback": [
      "\u001b[1;31m---------------------------------------------------------------------------\u001b[0m",
      "\u001b[1;31mKeyError\u001b[0m                                  Traceback (most recent call last)",
      "Cell \u001b[1;32mIn[10], line 1\u001b[0m\n\u001b[1;32m----> 1\u001b[0m \u001b[43mget_most_viewed\u001b[49m\u001b[43m(\u001b[49m\u001b[38;5;124;43m\"\u001b[39;49m\u001b[38;5;124;43mhttps://www.youtube.com/watch?v=5wQvdPtyuKs\u001b[39;49m\u001b[38;5;124;43m\"\u001b[39;49m\u001b[43m)\u001b[49m\n",
      "Cell \u001b[1;32mIn[8], line 24\u001b[0m, in \u001b[0;36mget_most_viewed\u001b[1;34m(yt_link)\u001b[0m\n\u001b[0;32m     22\u001b[0m data \u001b[38;5;241m=\u001b[39m response\u001b[38;5;241m.\u001b[39mjson()\n\u001b[0;32m     23\u001b[0m \u001b[38;5;28mprint\u001b[39m(data)\n\u001b[1;32m---> 24\u001b[0m markers \u001b[38;5;241m=\u001b[39m \u001b[43mdata\u001b[49m\u001b[43m[\u001b[49m\u001b[38;5;124;43m\"\u001b[39;49m\u001b[38;5;124;43mitems\u001b[39;49m\u001b[38;5;124;43m\"\u001b[39;49m\u001b[43m]\u001b[49m[\u001b[38;5;241m0\u001b[39m][\u001b[38;5;124m\"\u001b[39m\u001b[38;5;124mmostReplayed\u001b[39m\u001b[38;5;124m\"\u001b[39m][\u001b[38;5;124m\"\u001b[39m\u001b[38;5;124mmarkers\u001b[39m\u001b[38;5;124m\"\u001b[39m]\n\u001b[0;32m     25\u001b[0m df \u001b[38;5;241m=\u001b[39m pd\u001b[38;5;241m.\u001b[39mDataFrame(markers)\n\u001b[0;32m     26\u001b[0m df \u001b[38;5;241m=\u001b[39m df\u001b[38;5;241m.\u001b[39miloc[\u001b[38;5;241m1\u001b[39m:\u001b[38;5;241m-\u001b[39m\u001b[38;5;241m1\u001b[39m]\n",
      "\u001b[1;31mKeyError\u001b[0m: 'items'"
     ]
    }
   ],
   "source": [
    "\n",
    "get_most_viewed(\"https://www.youtube.com/watch?v=5wQvdPtyuKs\")"
   ]
  },
  {
   "cell_type": "code",
   "execution_count": null,
   "metadata": {},
   "outputs": [],
   "source": []
  }
 ],
 "metadata": {
  "kernelspec": {
   "display_name": "env_toktok",
   "language": "python",
   "name": "python3"
  },
  "language_info": {
   "codemirror_mode": {
    "name": "ipython",
    "version": 3
   },
   "file_extension": ".py",
   "mimetype": "text/x-python",
   "name": "python",
   "nbconvert_exporter": "python",
   "pygments_lexer": "ipython3",
   "version": "3.9.13"
  }
 },
 "nbformat": 4,
 "nbformat_minor": 2
}
