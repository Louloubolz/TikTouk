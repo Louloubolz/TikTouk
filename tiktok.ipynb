{
 "cells": [
  {
   "cell_type": "markdown",
   "metadata": {},
   "source": [
    "### **Récupérer les vidéos**"
   ]
  },
  {
   "cell_type": "code",
   "execution_count": 1,
   "metadata": {},
   "outputs": [],
   "source": [
    "from pytube import YouTube\n",
    "import customtkinter as ctk\n",
    "import customtkinter\n",
    "import tkinter.ttk as ttk\n",
    "import tkinter as tk\n",
    "\n",
    "customtkinter.set_appearance_mode(\"System\")  # Modes: \"System\" (standard), \"Dark\", \"Light\"\n",
    "customtkinter.set_default_color_theme(\"dark-blue\")  # Themes: \"blue\" (standard), \"green\", \"dark-blue\""
   ]
  },
  {
   "cell_type": "code",
   "execution_count": 9,
   "metadata": {},
   "outputs": [],
   "source": [
    "def download_yt_video(link = '', path= ''): \n",
    "    video = YouTube(link)\n",
    "    stream = video.streams.get_highest_resolution()\n",
    "    stream.download()\n"
   ]
  },
  {
   "cell_type": "code",
   "execution_count": null,
   "metadata": {},
   "outputs": [],
   "source": [
    "\n",
    "class App(ctk.CTk):\n",
    "    def __init__(self):\n",
    "        super().__init__()\n",
    "\n",
    "        # configure window\n",
    "        self.title(\"TikTok.py\")\n",
    "        self.geometry(f\"{500}x{400}\")\n",
    "\n",
    "        self.grid_columnconfigure(1, weight=1)\n",
    "        self.grid_columnconfigure((2, 3), weight=0)\n",
    "        self.grid_rowconfigure((0, 1, 2), weight=1)\n",
    "\n",
    "        # Configuration des styles pour ttk.Notebook\n",
    "        style = ttk.Style()\n",
    "        style.theme_use('default')\n",
    "        style.configure(\"TNotebook.Tab\", background=\"black\", foreground=\"black\", padding=[5, 2])\n",
    "\n",
    "        self.notebook = ttk.Notebook(self)\n",
    "        self.notebook.grid(row=0, column=0, columnspan=4, rowspan=3, sticky=\"nesw\")\n",
    "\n",
    "        self.tab1 = ctk.CTkFrame(self.notebook)\n",
    "        self.notebook.add(self.tab1, text=\"Vidéo 1\")\n",
    "        label = ctk.CTkLabel(self.tab1, text=\"Coller un url YT\")\n",
    "        label.pack(pady=10)\n",
    "        text_area = ctk.CTkEntry(self.tab1)\n",
    "        text_area.pack(pady=10)\n",
    "        button = ctk.CTkButton(self.tab1, text=\"Télécharger\", command = lambda : download_yt_video(link = text_area.get()))\n",
    "        button.pack(pady=10)\n",
    "\n",
    "        self.tab2 = ctk.CTkFrame(self.notebook)\n",
    "        self.notebook.add(self.tab2, text=\"Vidéo 2\")\n",
    "\n",
    "\n",
    "if __name__ == \"__main__\":\n",
    "    app = App()\n",
    "    app.mainloop()\n"
   ]
  },
  {
   "cell_type": "code",
   "execution_count": null,
   "metadata": {},
   "outputs": [],
   "source": [
    "import whisper\n",
    "from moviepy.editor import VideoFileClip\n",
    "from whisper.utils import get_writer\n",
    "\n",
    "\n",
    "def extraire_audio(video_path, audio_path):\n",
    "    try:\n",
    "        video = VideoFileClip(video_path)\n",
    "        audio = video.audio\n",
    "        audio.write_audiofile(audio_path)\n",
    "        print(f\"L'audio a été extrait et sauvegardé en tant que '{audio_path}'\")\n",
    "    except Exception as e:\n",
    "        print(f\"Erreur lors de l'extraction de l'audio : {e}\")\n",
    "\n",
    "# Chemin du fichier vidéo MP4\n",
    "chemin_video = \"gta0.mp4\"\n",
    "chemin_audio = \"audio.mp3\"\n",
    "\n",
    "\n",
    "extraire_audio(chemin_video, chemin_audio)\n",
    "\n"
   ]
  },
  {
   "cell_type": "code",
   "execution_count": 3,
   "metadata": {},
   "outputs": [],
   "source": [
    "model_name = \"large\"\n",
    "model = whisper.load_model(model_name, download_root=\"models\")\n"
   ]
  },
  {
   "cell_type": "code",
   "execution_count": 4,
   "metadata": {},
   "outputs": [],
   "source": [
    "audio = whisper.load_audio(chemin_audio)\n",
    "result = whisper.transcribe(model, audio, word_timestamps=True, language='fr')"
   ]
  },
  {
   "cell_type": "code",
   "execution_count": 8,
   "metadata": {},
   "outputs": [],
   "source": [
    "srt_writer = get_writer(\"srt\", \".\")\n",
    "srt_writer(result, \"audio.mp3\", {\"max_line_width\": 16, \"max_line_count\": 1})\n",
    "srt_writer(result, \"audio1.mp3\", {\"max_words_per_line\": 1})"
   ]
  },
  {
   "cell_type": "code",
   "execution_count": 9,
   "metadata": {},
   "outputs": [],
   "source": [
    "from moviepy.editor import VideoFileClip, CompositeVideoClip, TextClip\n",
    "import srt\n",
    "import datetime"
   ]
  },
  {
   "cell_type": "code",
   "execution_count": 21,
   "metadata": {},
   "outputs": [],
   "source": [
    "video_file = \"gta0.mp4\"\n",
    "video = VideoFileClip(video_file)\n",
    "video = video.subclip(0, 10)"
   ]
  },
  {
   "cell_type": "code",
   "execution_count": 11,
   "metadata": {},
   "outputs": [],
   "source": [
    "def afficher_srt(chemin_fichier):\n",
    "    sous_titres = []\n",
    "    try:\n",
    "        with open(chemin_fichier, 'r', encoding='utf-8') as fichier:\n",
    "            bloc = []\n",
    "            for ligne in fichier:\n",
    "                if ligne.strip() == '':\n",
    "                    if bloc:\n",
    "                        sous_titres.append(bloc)\n",
    "                        bloc = []\n",
    "                elif '-->' in ligne:\n",
    "                    temps = ligne.split('-->')\n",
    "                    temps_debut = temps[0].strip()\n",
    "                    temps_fin = temps[1].strip()\n",
    "                    bloc.append(temps_debut)\n",
    "                    bloc.append(temps_fin)\n",
    "                elif bloc:\n",
    "                    bloc.append(ligne.strip())\n",
    "    except FileNotFoundError:\n",
    "        print(\"Le fichier n'a pas été trouvé.\")\n",
    "    except Exception as e:\n",
    "        print(f\"Une erreur s'est produite: {e}\")\n",
    "\n",
    "    return sous_titres\n",
    "\n",
    "# Remplacez ceci par le chemin de votre fichier SRT\n",
    "chemin_fichier_srt = 'audio.srt'\n",
    "subtitles = afficher_srt(chemin_fichier_srt)\n",
    "chemin_fichier_srt_precis = 'audio1.srt'\n",
    "subtitles_precis = afficher_srt(chemin_fichier_srt_precis)\n",
    "\n",
    "def convertir_timestamp_en_secondes(timestamp):\n",
    "    heures, minutes, rest = timestamp.split(':')\n",
    "    secondes, millisecondes = rest.split(',')\n",
    "    temps_total = int(heures) * 3600 + int(minutes) * 60 + int(secondes) + int(millisecondes) / 1000\n",
    "    return temps_total\n",
    "\n",
    "import random\n",
    "\n",
    "def choisir_aleatoirement():\n",
    "    green = '#33FF36'\n",
    "    yellow = '#FFEC33'\n",
    "    red = '#FF5733'\n",
    "    return random.choice([green, yellow, red])"
   ]
  },
  {
   "cell_type": "code",
   "execution_count": 22,
   "metadata": {},
   "outputs": [
    {
     "name": "stdout",
     "output_type": "stream",
     "text": [
      "0.0 0.1\n",
      "0.1 0.34\n",
      "0.34 0.58\n",
      "-\n",
      "0.58 0.82\n",
      "0.82 1.04\n",
      "1.04 1.7\n",
      "1.7 1.9\n",
      "1.9 2.36\n",
      "2.36 2.48\n",
      "-\n",
      "2.48 3.06\n",
      "3.06 3.3\n",
      "3.3 3.7\n",
      "3.7 4.16\n",
      "4.16 4.64\n",
      "-\n",
      "4.64 4.78\n",
      "4.78 5.28\n",
      "5.28 5.42\n",
      "5.42 5.68\n",
      "-\n",
      "5.68 6.14\n",
      "6.14 6.28\n",
      "6.28 6.78\n",
      "6.78 6.9\n",
      "-\n",
      "6.9 7.1\n",
      "7.1 7.48\n",
      "7.48 7.76\n",
      "7.76 8.18\n",
      "-\n",
      "8.18 8.84\n",
      "Moviepy - Building video video_avec_texte.mp4.\n",
      "MoviePy - Writing audio in temp-audio.m4a\n"
     ]
    },
    {
     "name": "stderr",
     "output_type": "stream",
     "text": [
      "                                                                   \r"
     ]
    },
    {
     "name": "stdout",
     "output_type": "stream",
     "text": [
      "MoviePy - Done.\n",
      "Moviepy - Writing video video_avec_texte.mp4\n",
      "\n"
     ]
    },
    {
     "name": "stderr",
     "output_type": "stream",
     "text": [
      "                                                              \r"
     ]
    },
    {
     "name": "stdout",
     "output_type": "stream",
     "text": [
      "Moviepy - Done !\n",
      "Moviepy - video ready video_avec_texte.mp4\n"
     ]
    }
   ],
   "source": [
    "shift = 100\n",
    "shift_2= -66\n",
    "\n",
    "size_border_1 = 84\n",
    "size_txt_1 = 63\n",
    "size_border_2 = 75\n",
    "size_txt_2 = 57\n",
    "\n",
    "couleur = 'white'  \n",
    "contour = 'black'\n",
    "clips = []\n",
    "i = 0\n",
    "#for j in range(0, len(subtitles), 2): \n",
    "for j in range(0, 12, 2): \n",
    "    sub1 = subtitles[j]\n",
    "    if j + 1 < len(subtitles): \n",
    "        sub2 = subtitles[j+1]\n",
    "\n",
    "    for mot in sub1[2].split():\n",
    "        mot_highlight = '<span foreground=\"' + choisir_aleatoirement()+'\" >'\n",
    "        mot_highlight += mot.upper()\n",
    "        mot_highlight += '</span>'\n",
    "        texte = sub1[2].upper().replace(mot.upper(), mot_highlight)\n",
    "        if i == 0 : \n",
    "            start = convertir_timestamp_en_secondes(subtitles_precis[i][0])\n",
    "        else : start = end\n",
    "        end = convertir_timestamp_en_secondes(subtitles_precis[i][1])\n",
    "        print(start, end)\n",
    "        video_height = video.h \n",
    "        vertical_position = (video_height / 2) -54\n",
    "\n",
    "        txt_ = sub1[2].upper()\n",
    "        border = TextClip(txt_, font=\"Montserrat-Black.ttf\", fontsize=size_border_1, color=couleur, stroke_color=contour, stroke_width=15).set_position(('center', vertical_position)).set_start(start).set_end(end)\n",
    "        txt = TextClip(texte,font=\"Montserrat Black\",  fontsize=size_txt_1, color=couleur, stroke_color=contour, stroke_width=0, method=\"pango\").set_position('center').set_start(start).set_end(end)\n",
    "            \n",
    "\n",
    "        vertical_position = (video_height / 2) -54 + shift\n",
    "        vertical_position_ = (video_height / 2) +shift_2 + shift\n",
    "        border_2 = TextClip(sub2[2].upper(), font=\"Montserrat-Black.ttf\", fontsize=size_border_2, color=couleur, stroke_color=contour, stroke_width=15).set_position(('center', vertical_position)).set_start(start).set_end(end)\n",
    "        txt_2 = TextClip(sub2[2].upper(),font=\"Montserrat Black\",  fontsize=size_txt_2, color=couleur, stroke_color=contour, stroke_width=0, method=\"pango\").set_position(('center', vertical_position_)).set_start(start).set_end(end)\n",
    "\n",
    "        clips.append(border)\n",
    "        clips.append(txt)\n",
    "        clips.append(border_2)\n",
    "        clips.append(txt_2)\n",
    "\n",
    "        i += 1\n",
    "    print('-')\n",
    "    for mot in sub2[2].split():\n",
    "        mot_highlight = '<span foreground=\"' + choisir_aleatoirement()+'\" >'\n",
    "        mot_highlight += mot.upper()\n",
    "        mot_highlight += '</span>'\n",
    "        texte = sub2[2].upper().replace(mot.upper(), mot_highlight)\n",
    "        start = end\n",
    "        end = convertir_timestamp_en_secondes(subtitles_precis[i][1])\n",
    "        print(start, end)\n",
    "        video_height = video.h \n",
    "        vertical_position = (video_height / 2) -54\n",
    "\n",
    "        txt_ = sub2[2].upper()\n",
    "        border = TextClip(sub1[2].upper(), font=\"Montserrat-Black.ttf\", fontsize=size_border_2, color=couleur, stroke_color=contour, stroke_width=15).set_position(('center', vertical_position)).set_start(start).set_end(end)\n",
    "        txt = TextClip(sub1[2].upper(),font=\"Montserrat Black\",  fontsize=size_txt_2, color=couleur, stroke_color=contour, stroke_width=0, method=\"pango\").set_position('center').set_start(start).set_end(end)\n",
    "            \n",
    "    \n",
    "        vertical_position = (video_height / 2) -54 + shift\n",
    "        vertical_position_ = (video_height / 2) +shift_2 + shift\n",
    "        border_2 = TextClip(txt_ , font=\"Montserrat-Black.ttf\", fontsize=size_border_1, color=couleur, stroke_color=contour, stroke_width=15).set_position(('center', vertical_position)).set_start(start).set_end(end)\n",
    "        txt_2 = TextClip(texte ,font=\"Montserrat Black\",  fontsize=size_txt_1, color=couleur, stroke_color=contour, stroke_width=0, method=\"pango\").set_position(('center', vertical_position_)).set_start(start).set_end(end)\n",
    "\n",
    "        clips.append(border)\n",
    "        clips.append(txt)\n",
    "        clips.append(border_2)\n",
    "        clips.append(txt_2)\n",
    "\n",
    "        i += 1\n",
    "\n",
    " \n",
    "video_final = CompositeVideoClip([video, *clips ]).set_duration(video.duration)\n",
    "\n",
    "# Exporter la vidéo\n",
    "video_final.write_videofile(\"video_avec_texte.mp4\", codec=\"libx264\", bitrate=\"8000k\", temp_audiofile=\"temp-audio.m4a\", remove_temp=True, audio_codec=\"aac\")"
   ]
  },
  {
   "cell_type": "markdown",
   "metadata": {},
   "source": [
    "\"C:\\Program Files\\ImageMagick-7.1.1-Q16-HDRI\\magick.exe\""
   ]
  }
 ],
 "metadata": {
  "kernelspec": {
   "display_name": "Python 3",
   "language": "python",
   "name": "python3"
  },
  "language_info": {
   "codemirror_mode": {
    "name": "ipython",
    "version": 3
   },
   "file_extension": ".py",
   "mimetype": "text/x-python",
   "name": "python",
   "nbconvert_exporter": "python",
   "pygments_lexer": "ipython3",
   "version": "3.11.7"
  }
 },
 "nbformat": 4,
 "nbformat_minor": 2
}
